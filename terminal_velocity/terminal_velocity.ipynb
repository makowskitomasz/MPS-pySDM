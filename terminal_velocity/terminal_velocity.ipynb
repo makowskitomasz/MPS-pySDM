{
 "cells": [
  {
   "cell_type": "code",
   "execution_count": 11,
   "id": "59776146",
   "metadata": {},
   "outputs": [],
   "source": [
    "import numpy as np\n",
    "from scipy.optimize import brentq, fixed_point\n",
    "import pint"
   ]
  },
  {
   "cell_type": "markdown",
   "id": "568e497d",
   "metadata": {},
   "source": [
    "## Raindrop shape\n",
    "\n",
    "In order to calculate terminal velocity we need to find $\\frac{a}{b}$, which is uniquely determined from $r_{eq}$ with following equation:\n",
    "\n",
    "$$\n",
    "\n",
    "r_{eq} = \\sqrt{\\frac{\\sigma_{c-air}}{g(\\rho_{c,l} - \\rho_{air})}}\\left(\\frac{b}{a}\\right)^{-\\frac{1}{6}}\\sqrt{\\left(\\frac{b}{a}\\right)^{-2} - 2\\left(\\frac{b}{a}\\right)^{-\\frac{1}{3}} + 1}\n",
    "\n",
    "$$\n",
    "\n",
    "This can be done by transforming it into form $F(x) = 0$ where the variable $x = \\frac{b}{a}$ and finding roots of $F$.\n",
    "\n",
    "$$\n",
    "\n",
    "F\\left(\\frac{b}{a}\\right) = \\sqrt{\\frac{\\sigma_{c-air}}{g(\\rho_{c,l} - \\rho_{air})}}\\left(\\frac{b}{a}\\right)^{-\\frac{1}{6}}\\sqrt{\\left(\\frac{b}{a}\\right)^{-2} - 2\\left(\\frac{b}{a}\\right)^{-\\frac{1}{3}} + 1} - r_{eq} = 0\n",
    "\n",
    "\n",
    "$$"
   ]
  },
  {
   "cell_type": "code",
   "execution_count": 12,
   "id": "a13c636a",
   "metadata": {},
   "outputs": [
    {
     "data": {
      "text/plain": [
       "0.5592937418316654"
      ]
     },
     "execution_count": 12,
     "metadata": {},
     "output_type": "execute_result"
    }
   ],
   "source": [
    "ureg = pint.UnitRegistry()\n",
    "\n",
    "SIGMA_WATER_AIR = 0.073 #* ureg.newton / ureg.meter\n",
    "GRAVITY = 9.81 #* ureg.meter / ureg.second**2\n",
    "RHO_WATER = 1000.0 #* ureg.kilogram / ureg.meter**3\n",
    "RHO_AIR = 1.205 #* ureg.kilogram / ureg.meter**3\n",
    "\n",
    "def calculate_shape_ratio(r_eq):\n",
    "    def F(x):\n",
    "        return np.sqrt(SIGMA_WATER_AIR / (GRAVITY * (RHO_WATER - RHO_AIR))) * x**(-1/6) * \\\n",
    "               np.sqrt(x**(-2) - 2 * x**(-1/3) + 1) - r_eq\n",
    "    return brentq(F, 1e-9, 1.0 - 1e-9)\n",
    "\n",
    "r_eq = 0.004 #* ureg.meter\n",
    "\n",
    "shape_ratio = calculate_shape_ratio(r_eq)\n",
    "shape_ratio"
   ]
  },
  {
   "cell_type": "markdown",
   "id": "5799928f",
   "metadata": {},
   "source": [
    "$$\n",
    "f_{SA} = \\begin{cases} 0.5 \\left(\\frac{b}{a}\\right)^{-2/3} + \\left(\\frac{b}{a}\\right)^{4/3} (4\\epsilon)^{-1}ln\\left[\\frac{1 + \\epsilon}{1 - \\epsilon}\\right], & b/a < 1 \\\\ 1, & b/a = 1 \\end{cases}\n",
    "$$,\n",
    "where $\\epsilon = \\sqrt{1 - (b / a)^2}$"
   ]
  },
  {
   "cell_type": "code",
   "execution_count": 13,
   "id": "a899098b",
   "metadata": {},
   "outputs": [
    {
     "data": {
      "text/plain": [
       "1.0658760029877963"
      ]
     },
     "execution_count": 13,
     "metadata": {},
     "output_type": "execute_result"
    }
   ],
   "source": [
    "def calculate_fSA(shape_ratio):\n",
    "    epsilon = np.sqrt(1 - shape_ratio**2)\n",
    "    if shape_ratio < 1:\n",
    "        return 0.5 * (shape_ratio ** (-2/3)) + shape_ratio ** (4/3) * \\\n",
    "               (4 * epsilon) ** -1 * np.log((1 + epsilon) / (1 - epsilon))\n",
    "    elif shape_ratio == 1:\n",
    "        return 1.0\n",
    "    else:\n",
    "        raise ValueError(\"Shape ratio must be in (0, 1]\")\n",
    "\n",
    "fSA = calculate_fSA(shape_ratio)\n",
    "fSA"
   ]
  },
  {
   "cell_type": "markdown",
   "id": "e27d45b8",
   "metadata": {},
   "source": [
    "$$\n",
    "\n",
    "C_{shape}=1+1.5(f_{SA}-1)^{0.5}+6.7(f_{SA}-1)\n",
    "\n",
    "$$"
   ]
  },
  {
   "cell_type": "code",
   "execution_count": 14,
   "id": "ffd6d89f",
   "metadata": {},
   "outputs": [
    {
     "data": {
      "text/plain": [
       "1.8263640339086842"
      ]
     },
     "execution_count": 14,
     "metadata": {},
     "output_type": "execute_result"
    }
   ],
   "source": [
    "def calculate_C_shape(fSA):\n",
    "    return 1 + 1.5 * (fSA - 1)**0.5 + 6.7 * (fSA - 1)\n",
    "\n",
    "C_shape = calculate_C_shape(fSA)\n",
    "C_shape"
   ]
  },
  {
   "cell_type": "markdown",
   "id": "bba83ada",
   "metadata": {},
   "source": [
    "$$\n",
    "C_{D}=\\left(\\frac{24}{Re}\\left(1+0.15Re^{0.687}\\right)+0.42\\left(1+4.25\\times10^{4}Re^{-1.16}\\right)^{-1}\\right)C_{shape}\n",
    "$$"
   ]
  },
  {
   "cell_type": "code",
   "execution_count": 15,
   "id": "6ec79ee3",
   "metadata": {},
   "outputs": [
    {
     "data": {
      "text/plain": [
       "0.7026691301393564"
      ]
     },
     "execution_count": 15,
     "metadata": {},
     "output_type": "execute_result"
    }
   ],
   "source": [
    "AIR_VISCOSITY = 1.81e-5\n",
    "\n",
    "def calculate_CD(C_shape, vT, r_eq):\n",
    "    Re = vT * 2 * r_eq * RHO_AIR / AIR_VISCOSITY\n",
    "    return ((24 / Re) * (1 + 0.15 * Re**0.687) + 0.42 * (1 + 4.25 * 10**4 * Re**-1.16)**-1) * C_shape\n",
    "\n",
    "CD = calculate_CD(C_shape, 6.5, r_eq)\n",
    "CD\n"
   ]
  },
  {
   "cell_type": "markdown",
   "id": "66491711",
   "metadata": {},
   "source": [
    "$$\n",
    "v_t = -\\sqrt{\\frac{8}{3}\\frac{(\\rho_{c,l} - \\rho_{air})}{\\rho_{air}}\\frac{g}{C_D}\\left(\\frac{b}{a}\\right)^{\\frac{2}{3}}r_{eq}}\n",
    "$$"
   ]
  },
  {
   "cell_type": "code",
   "execution_count": 16,
   "id": "083b9954",
   "metadata": {},
   "outputs": [
    {
     "name": "stderr",
     "output_type": "stream",
     "text": [
      "/tmp/ipykernel_116938/2323664598.py:5: RuntimeWarning: invalid value encountered in scalar power\n",
      "  return ((24 / Re) * (1 + 0.15 * Re**0.687) + 0.42 * (1 + 4.25 * 10**4 * Re**-1.16)**-1) * C_shape\n"
     ]
    },
    {
     "ename": "RuntimeError",
     "evalue": "Failed to converge after 500 iterations, value is nan",
     "output_type": "error",
     "traceback": [
      "\u001b[0;31m---------------------------------------------------------------------------\u001b[0m",
      "\u001b[0;31mRuntimeError\u001b[0m                              Traceback (most recent call last)",
      "\u001b[0;32m/tmp/ipykernel_116938/3263241577.py\u001b[0m in \u001b[0;36m<module>\u001b[0;34m\u001b[0m\n\u001b[1;32m      6\u001b[0m     \u001b[0;32mreturn\u001b[0m \u001b[0mfixed_point\u001b[0m\u001b[0;34m(\u001b[0m\u001b[0mf\u001b[0m\u001b[0;34m,\u001b[0m \u001b[0mv0\u001b[0m\u001b[0;34m)\u001b[0m\u001b[0;34m\u001b[0m\u001b[0;34m\u001b[0m\u001b[0m\n\u001b[1;32m      7\u001b[0m \u001b[0;34m\u001b[0m\u001b[0m\n\u001b[0;32m----> 8\u001b[0;31m \u001b[0mv_terminal\u001b[0m \u001b[0;34m=\u001b[0m \u001b[0mcalculate_terminal_velocity\u001b[0m\u001b[0;34m(\u001b[0m\u001b[0mr_eq\u001b[0m\u001b[0;34m,\u001b[0m \u001b[0mC_shape\u001b[0m\u001b[0;34m,\u001b[0m \u001b[0mshape_ratio\u001b[0m\u001b[0;34m)\u001b[0m\u001b[0;34m\u001b[0m\u001b[0;34m\u001b[0m\u001b[0m\n\u001b[0m",
      "\u001b[0;32m/tmp/ipykernel_116938/3263241577.py\u001b[0m in \u001b[0;36mcalculate_terminal_velocity\u001b[0;34m(r_eq, C_shape, shape_ratio)\u001b[0m\n\u001b[1;32m      4\u001b[0m         \u001b[0mCD\u001b[0m \u001b[0;34m=\u001b[0m \u001b[0mcalculate_CD\u001b[0m\u001b[0;34m(\u001b[0m\u001b[0mC_shape\u001b[0m\u001b[0;34m,\u001b[0m \u001b[0mvT\u001b[0m\u001b[0;34m,\u001b[0m \u001b[0mr_eq\u001b[0m\u001b[0;34m)\u001b[0m\u001b[0;34m\u001b[0m\u001b[0;34m\u001b[0m\u001b[0m\n\u001b[1;32m      5\u001b[0m         \u001b[0;32mreturn\u001b[0m \u001b[0;34m-\u001b[0m\u001b[0mnp\u001b[0m\u001b[0;34m.\u001b[0m\u001b[0msqrt\u001b[0m\u001b[0;34m(\u001b[0m\u001b[0;36m8\u001b[0m\u001b[0;34m/\u001b[0m\u001b[0;36m3\u001b[0m \u001b[0;34m*\u001b[0m \u001b[0;34m(\u001b[0m\u001b[0;34m(\u001b[0m\u001b[0mRHO_WATER\u001b[0m \u001b[0;34m-\u001b[0m \u001b[0mRHO_AIR\u001b[0m\u001b[0;34m)\u001b[0m \u001b[0;34m/\u001b[0m \u001b[0mRHO_AIR\u001b[0m\u001b[0;34m)\u001b[0m \u001b[0;34m*\u001b[0m \u001b[0;34m(\u001b[0m\u001b[0mGRAVITY\u001b[0m \u001b[0;34m/\u001b[0m \u001b[0mCD\u001b[0m\u001b[0;34m)\u001b[0m \u001b[0;34m*\u001b[0m \u001b[0mshape_ratio\u001b[0m\u001b[0;34m**\u001b[0m\u001b[0;34m(\u001b[0m\u001b[0;36m2\u001b[0m\u001b[0;34m/\u001b[0m\u001b[0;36m3\u001b[0m\u001b[0;34m)\u001b[0m \u001b[0;34m*\u001b[0m \u001b[0mr_eq\u001b[0m\u001b[0;34m)\u001b[0m\u001b[0;34m\u001b[0m\u001b[0;34m\u001b[0m\u001b[0m\n\u001b[0;32m----> 6\u001b[0;31m     \u001b[0;32mreturn\u001b[0m \u001b[0mfixed_point\u001b[0m\u001b[0;34m(\u001b[0m\u001b[0mf\u001b[0m\u001b[0;34m,\u001b[0m \u001b[0mv0\u001b[0m\u001b[0;34m)\u001b[0m\u001b[0;34m\u001b[0m\u001b[0;34m\u001b[0m\u001b[0m\n\u001b[0m\u001b[1;32m      7\u001b[0m \u001b[0;34m\u001b[0m\u001b[0m\n\u001b[1;32m      8\u001b[0m \u001b[0mv_terminal\u001b[0m \u001b[0;34m=\u001b[0m \u001b[0mcalculate_terminal_velocity\u001b[0m\u001b[0;34m(\u001b[0m\u001b[0mr_eq\u001b[0m\u001b[0;34m,\u001b[0m \u001b[0mC_shape\u001b[0m\u001b[0;34m,\u001b[0m \u001b[0mshape_ratio\u001b[0m\u001b[0;34m)\u001b[0m\u001b[0;34m\u001b[0m\u001b[0;34m\u001b[0m\u001b[0m\n",
      "\u001b[0;32m~/.local/lib/python3.10/site-packages/scipy/optimize/_minpack_py.py\u001b[0m in \u001b[0;36mfixed_point\u001b[0;34m(func, x0, args, xtol, maxiter, method)\u001b[0m\n\u001b[1;32m   1118\u001b[0m     \u001b[0muse_accel\u001b[0m \u001b[0;34m=\u001b[0m \u001b[0;34m{\u001b[0m\u001b[0;34m'del2'\u001b[0m\u001b[0;34m:\u001b[0m \u001b[0;32mTrue\u001b[0m\u001b[0;34m,\u001b[0m \u001b[0;34m'iteration'\u001b[0m\u001b[0;34m:\u001b[0m \u001b[0;32mFalse\u001b[0m\u001b[0;34m}\u001b[0m\u001b[0;34m[\u001b[0m\u001b[0mmethod\u001b[0m\u001b[0;34m]\u001b[0m\u001b[0;34m\u001b[0m\u001b[0;34m\u001b[0m\u001b[0m\n\u001b[1;32m   1119\u001b[0m     \u001b[0mx0\u001b[0m \u001b[0;34m=\u001b[0m \u001b[0m_asarray_validated\u001b[0m\u001b[0;34m(\u001b[0m\u001b[0mx0\u001b[0m\u001b[0;34m,\u001b[0m \u001b[0mas_inexact\u001b[0m\u001b[0;34m=\u001b[0m\u001b[0;32mTrue\u001b[0m\u001b[0;34m)\u001b[0m\u001b[0;34m\u001b[0m\u001b[0;34m\u001b[0m\u001b[0m\n\u001b[0;32m-> 1120\u001b[0;31m     \u001b[0;32mreturn\u001b[0m \u001b[0m_fixed_point_helper\u001b[0m\u001b[0;34m(\u001b[0m\u001b[0mfunc\u001b[0m\u001b[0;34m,\u001b[0m \u001b[0mx0\u001b[0m\u001b[0;34m,\u001b[0m \u001b[0margs\u001b[0m\u001b[0;34m,\u001b[0m \u001b[0mxtol\u001b[0m\u001b[0;34m,\u001b[0m \u001b[0mmaxiter\u001b[0m\u001b[0;34m,\u001b[0m \u001b[0muse_accel\u001b[0m\u001b[0;34m)\u001b[0m\u001b[0;34m\u001b[0m\u001b[0;34m\u001b[0m\u001b[0m\n\u001b[0m",
      "\u001b[0;32m~/.local/lib/python3.10/site-packages/scipy/optimize/_minpack_py.py\u001b[0m in \u001b[0;36m_fixed_point_helper\u001b[0;34m(func, x0, args, xtol, maxiter, use_accel)\u001b[0m\n\u001b[1;32m   1071\u001b[0m         \u001b[0mp0\u001b[0m \u001b[0;34m=\u001b[0m \u001b[0mp\u001b[0m\u001b[0;34m\u001b[0m\u001b[0;34m\u001b[0m\u001b[0m\n\u001b[1;32m   1072\u001b[0m     \u001b[0mmsg\u001b[0m \u001b[0;34m=\u001b[0m \u001b[0;34m\"Failed to converge after %d iterations, value is %s\"\u001b[0m \u001b[0;34m%\u001b[0m \u001b[0;34m(\u001b[0m\u001b[0mmaxiter\u001b[0m\u001b[0;34m,\u001b[0m \u001b[0mp\u001b[0m\u001b[0;34m)\u001b[0m\u001b[0;34m\u001b[0m\u001b[0;34m\u001b[0m\u001b[0m\n\u001b[0;32m-> 1073\u001b[0;31m     \u001b[0;32mraise\u001b[0m \u001b[0mRuntimeError\u001b[0m\u001b[0;34m(\u001b[0m\u001b[0mmsg\u001b[0m\u001b[0;34m)\u001b[0m\u001b[0;34m\u001b[0m\u001b[0;34m\u001b[0m\u001b[0m\n\u001b[0m\u001b[1;32m   1074\u001b[0m \u001b[0;34m\u001b[0m\u001b[0m\n\u001b[1;32m   1075\u001b[0m \u001b[0;34m\u001b[0m\u001b[0m\n",
      "\u001b[0;31mRuntimeError\u001b[0m: Failed to converge after 500 iterations, value is nan"
     ]
    }
   ],
   "source": [
    "def calculate_terminal_velocity(r_eq, C_shape, shape_ratio):\n",
    "    v0 = 0.001\n",
    "    def f(vT):\n",
    "        CD = calculate_CD(C_shape, vT, r_eq)\n",
    "        return -np.sqrt(8/3 * ((RHO_WATER - RHO_AIR) / RHO_AIR) * (GRAVITY / CD) * shape_ratio**(2/3) * r_eq)\n",
    "    return fixed_point(f, v0)\n",
    "\n",
    "v_terminal = calculate_terminal_velocity(r_eq, C_shape, shape_ratio)"
   ]
  }
 ],
 "metadata": {
  "kernelspec": {
   "display_name": "Python 3",
   "language": "python",
   "name": "python3"
  },
  "language_info": {
   "codemirror_mode": {
    "name": "ipython",
    "version": 3
   },
   "file_extension": ".py",
   "mimetype": "text/x-python",
   "name": "python",
   "nbconvert_exporter": "python",
   "pygments_lexer": "ipython3",
   "version": "3.10.12"
  }
 },
 "nbformat": 4,
 "nbformat_minor": 5
}
