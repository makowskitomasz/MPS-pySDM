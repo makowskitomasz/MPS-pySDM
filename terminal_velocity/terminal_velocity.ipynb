{
 "cells": [
  {
   "cell_type": "code",
   "execution_count": 1,
   "id": "59776146",
   "metadata": {},
   "outputs": [],
   "source": [
    "import numpy as np\n",
    "from scipy.optimize import brentq, fixed_point\n",
    "import pint"
   ]
  },
  {
   "cell_type": "markdown",
   "id": "568e497d",
   "metadata": {},
   "source": [
    "## Raindrop shape\n",
    "\n",
    "In order to calculate terminal velocity we need to find $\\frac{a}{b}$, which is uniquely determined from $r_{eq}$ with following equation:\n",
    "\n",
    "$$\n",
    "\n",
    "r_{eq} = \\sqrt{\\frac{\\sigma_{c-air}}{g(\\rho_{c,l} - \\rho_{air})}}\\left(\\frac{b}{a}\\right)^{-\\frac{1}{6}}\\sqrt{\\left(\\frac{b}{a}\\right)^{-2} - 2\\left(\\frac{b}{a}\\right)^{-\\frac{1}{3}} + 1}\n",
    "\n",
    "$$\n",
    "\n",
    "This can be done by transforming it into form $F(x) = 0$ where the variable $x = \\frac{b}{a}$ and finding roots of $F$.\n",
    "\n",
    "$$\n",
    "\n",
    "F\\left(\\frac{b}{a}\\right) = \\sqrt{\\frac{\\sigma_{c-air}}{g(\\rho_{c,l} - \\rho_{air})}}\\left(\\frac{b}{a}\\right)^{-\\frac{1}{6}}\\sqrt{\\left(\\frac{b}{a}\\right)^{-2} - 2\\left(\\frac{b}{a}\\right)^{-\\frac{1}{3}} + 1} - r_{eq} = 0\n",
    "\n",
    "\n",
    "$$"
   ]
  },
  {
   "cell_type": "code",
   "execution_count": 2,
   "id": "a13c636a",
   "metadata": {},
   "outputs": [
    {
     "data": {
      "text/plain": [
       "0.5592937418316654"
      ]
     },
     "execution_count": 2,
     "metadata": {},
     "output_type": "execute_result"
    }
   ],
   "source": [
    "ureg = pint.UnitRegistry()\n",
    "\n",
    "SIGMA_WATER_AIR = 0.073 #* ureg.newton / ureg.meter\n",
    "GRAVITY = 9.81 #* ureg.meter / ureg.second**2\n",
    "RHO_WATER = 1000.0 #* ureg.kilogram / ureg.meter**3\n",
    "RHO_AIR = 1.205 #* ureg.kilogram / ureg.meter**3\n",
    "\n",
    "def calculate_shape_ratio(r_eq):\n",
    "    def F(x):\n",
    "        return np.sqrt(SIGMA_WATER_AIR / (GRAVITY * (RHO_WATER - RHO_AIR))) * x**(-1/6) * \\\n",
    "               np.sqrt(x**(-2) - 2 * x**(-1/3) + 1) - r_eq\n",
    "    return brentq(F, 1e-9, 1.0 - 1e-9)\n",
    "\n",
    "r_eq = 0.004 #* ureg.meter\n",
    "\n",
    "shape_ratio = calculate_shape_ratio(r_eq)\n",
    "shape_ratio"
   ]
  },
  {
   "cell_type": "markdown",
   "id": "5799928f",
   "metadata": {},
   "source": [
    "$$\n",
    "f_{SA} = \\begin{cases} 0.5 \\left(\\frac{b}{a}\\right)^{-2/3} + \\left(\\frac{b}{a}\\right)^{4/3} (4\\epsilon)^{-1}ln\\left[\\frac{1 + \\epsilon}{1 - \\epsilon}\\right], & b/a < 1 \\\\ 1, & b/a = 1 \\end{cases}\n",
    "$$,\n",
    "where $\\epsilon = \\sqrt{1 - (b / a)^2}$"
   ]
  },
  {
   "cell_type": "code",
   "execution_count": 3,
   "id": "a899098b",
   "metadata": {},
   "outputs": [
    {
     "data": {
      "text/plain": [
       "1.0658760029877963"
      ]
     },
     "execution_count": 3,
     "metadata": {},
     "output_type": "execute_result"
    }
   ],
   "source": [
    "def calculate_fSA(shape_ratio):\n",
    "    epsilon = np.sqrt(1 - shape_ratio**2)\n",
    "    if shape_ratio < 1:\n",
    "        return 0.5 * (shape_ratio ** (-2/3)) + shape_ratio ** (4/3) * \\\n",
    "            np.log((1 + epsilon) / (1 - epsilon)) / (4 * epsilon)\n",
    "    elif shape_ratio == 1:\n",
    "        return 1.0\n",
    "    else:\n",
    "        raise ValueError(\"Shape ratio must be in (0, 1]\")\n",
    "\n",
    "fSA = calculate_fSA(shape_ratio)\n",
    "fSA"
   ]
  },
  {
   "cell_type": "markdown",
   "id": "e27d45b8",
   "metadata": {},
   "source": [
    "$$\n",
    "\n",
    "C_{shape}=1+1.5(f_{SA}-1)^{0.5}+6.7(f_{SA}-1)\n",
    "\n",
    "$$"
   ]
  },
  {
   "cell_type": "code",
   "execution_count": 4,
   "id": "ffd6d89f",
   "metadata": {},
   "outputs": [
    {
     "data": {
      "text/plain": [
       "1.8263640339086842"
      ]
     },
     "execution_count": 4,
     "metadata": {},
     "output_type": "execute_result"
    }
   ],
   "source": [
    "def calculate_C_shape(fSA):\n",
    "    return 1 + 1.5 * (fSA - 1)**0.5 + 6.7 * (fSA - 1)\n",
    "\n",
    "C_shape = calculate_C_shape(fSA)\n",
    "C_shape"
   ]
  },
  {
   "cell_type": "markdown",
   "id": "bba83ada",
   "metadata": {},
   "source": [
    "$$\n",
    "C_{D}=\\left(\\frac{24}{Re}\\left(1+0.15Re^{0.687}\\right)+0.42\\left(1+4.25\\times10^{4}Re^{-1.16}\\right)^{-1}\\right)C_{shape}\n",
    "$$"
   ]
  },
  {
   "cell_type": "code",
   "execution_count": 5,
   "id": "6ec79ee3",
   "metadata": {},
   "outputs": [
    {
     "data": {
      "text/plain": [
       "0.7026691301393564"
      ]
     },
     "execution_count": 5,
     "metadata": {},
     "output_type": "execute_result"
    }
   ],
   "source": [
    "AIR_VISCOSITY = 1.81e-5\n",
    "\n",
    "def calculate_CD(C_shape, vT, r_eq):\n",
    "    Re = vT * 2 * r_eq * RHO_AIR / AIR_VISCOSITY\n",
    "    return ((24 / Re) * (1 + 0.15 * Re**0.687) + 0.42 * (1 + 4.25 * 10**4 * Re**-1.16)**-1) * C_shape\n",
    "\n",
    "CD = calculate_CD(C_shape, 6.5, r_eq)\n",
    "CD\n"
   ]
  },
  {
   "cell_type": "markdown",
   "id": "66491711",
   "metadata": {},
   "source": [
    "$$\n",
    "v_{t + 1} = -\\sqrt{\\frac{8}{3}\\frac{(\\rho_{c,l} - \\rho_{air})}{\\rho_{air}}\\frac{g}{C_D(v_{t})}\\left(\\frac{b}{a}\\right)^{\\frac{2}{3}}r_{eq}}\n",
    "$$"
   ]
  },
  {
   "cell_type": "code",
   "execution_count": 6,
   "id": "083b9954",
   "metadata": {},
   "outputs": [
    {
     "data": {
      "text/plain": [
       "array(9.12916313)"
      ]
     },
     "execution_count": 6,
     "metadata": {},
     "output_type": "execute_result"
    }
   ],
   "source": [
    "def calculate_terminal_velocity(Cd, shape_ratio, r_eq):\n",
    "        return np.sqrt(8/3 * ((RHO_WATER - RHO_AIR) / RHO_AIR) * (GRAVITY / Cd) * shape_ratio**(2/3) * r_eq)\n",
    "\n",
    "def find_terminal_velocity(r_eq, C_shape, shape_ratio):\n",
    "    v0 = 0.001\n",
    "    def f(vT):\n",
    "        vT = np.abs(vT)\n",
    "        Cd = calculate_CD(C_shape, vT, r_eq)\n",
    "        return calculate_terminal_velocity(Cd, shape_ratio, r_eq)\n",
    "\n",
    "    return fixed_point(f, v0)\n",
    "\n",
    "v_terminal = find_terminal_velocity(r_eq, C_shape, shape_ratio)\n",
    "v_terminal"
   ]
  },
  {
   "cell_type": "code",
   "execution_count": 13,
   "id": "34d63f1c",
   "metadata": {},
   "outputs": [
    {
     "data": {
      "text/plain": [
       "array(9.12916313)"
      ]
     },
     "execution_count": 13,
     "metadata": {},
     "output_type": "execute_result"
    }
   ],
   "source": [
    "def numerical_solultion(r_eq):\n",
    "    shape_ratio = calculate_shape_ratio(r_eq)\n",
    "    fSA = calculate_fSA(shape_ratio)\n",
    "    C_shape = calculate_C_shape(fSA)\n",
    "    v_terminal = find_terminal_velocity(r_eq, C_shape, shape_ratio)\n",
    "    return v_terminal\n",
    "numerical_solultion(r_eq)"
   ]
  },
  {
   "cell_type": "markdown",
   "id": "77b0fed9",
   "metadata": {},
   "source": [
    "# Validation\n",
    "\n",
    "In following sections, we will validate the solution in to ways\n",
    "1. Comparison with analytic solution (for raindrop radii for which it is applicable)\n",
    "2. Comparison with experimental data"
   ]
  },
  {
   "cell_type": "markdown",
   "id": "c05f5418",
   "metadata": {},
   "source": [
    "## Stokes formula\n",
    "\n",
    "For very small sizes of raindrops, vertical velocity can be derived from Stokes' Law and takes following form:\n",
    "\n",
    "$$\n",
    "\n",
    "v_t = \\frac{2r^2g(\\rho_w - \\rho_{air})}{9\\mu_a}\n",
    "\n",
    "$$"
   ]
  },
  {
   "cell_type": "code",
   "execution_count": null,
   "id": "d579f9ea",
   "metadata": {},
   "outputs": [
    {
     "data": {
      "text/plain": [
       "1924.7497016574582"
      ]
     },
     "execution_count": 12,
     "metadata": {},
     "output_type": "execute_result"
    }
   ],
   "source": [
    "def analytic_terminal_velocity(r_eq):\n",
    "    return (2 * r_eq ** 2 * GRAVITY * (RHO_WATER - RHO_AIR)) / (9 * AIR_VISCOSITY)\n",
    "\n",
    "analytic_terminal_velocity(0.004)"
   ]
  },
  {
   "cell_type": "markdown",
   "id": "f259d3ca",
   "metadata": {},
   "source": [
    "As can be observed from above, for big enough radius it results in obviously wrong values (1924 m/s for 4mm raindrop)"
   ]
  },
  {
   "cell_type": "code",
   "execution_count": 32,
   "id": "cc5a6aa8",
   "metadata": {},
   "outputs": [
    {
     "data": {
      "image/png": "[encoded data removed]",
      "text/plain": [
       "<Figure size 720x432 with 1 Axes>"
      ]
     },
     "metadata": {
      "needs_background": "light"
     },
     "output_type": "display_data"
    },
    {
     "name": "stdout",
     "output_type": "stream",
     "text": [
      "[array(0.01192565), array(0.01416861), array(0.01659797), array(0.01921163), array(0.02200733), array(0.02498266), array(0.02813512), array(0.03146205), array(0.03496071), array(0.03862823), array(0.04246167), array(0.04645798), array(0.05061404), array(0.05492667), array(0.05939263), array(0.06400862), array(0.06877129), array(0.07367727), array(0.07872315), array(0.08390552), array(0.08922092), array(0.09466593), array(0.1002371), array(0.105931), array(0.11174421), array(0.11767333), array(0.12371499), array(0.12986582), array(0.13612254), array(0.14248185), array(0.14894052), array(0.15549538), array(0.16214327), array(0.16888111), array(0.17570586), array(0.18261454), array(0.18960423), array(0.19667206), array(0.20381523), array(0.211031), array(0.21831668), array(0.22566966), array(0.23308738), array(0.24056734), array(0.24810712), array(0.25570436), array(0.26335674), array(0.27106203), array(0.27881805), array(0.28662267), array(0.29447386), array(0.3023696), array(0.31030796), array(0.31828706), array(0.32630507), array(0.33436024), array(0.34245084), array(0.35057522), array(0.35873178), array(0.36691896), array(0.37513526), array(0.38337921), array(0.39164943), array(0.39994454), array(0.40826323), array(0.41660424), array(0.42496633), array(0.43334832), array(0.44174906), array(0.45016746), array(0.45860244), array(0.46705297), array(0.47551807), array(0.48399677), array(0.49248814), array(0.50099131), array(0.50950541), array(0.5180296), array(0.5265631), array(0.53510513), array(0.54365495), array(0.55221184), array(0.56077512), array(0.56934413), array(0.57791822), array(0.58649677), array(0.59507921), array(0.60366495), array(0.61225345), array(0.62084418), array(0.62943662), array(0.6380303), array(0.64662474), array(0.65521949), array(0.66381411), array(0.67240818), array(0.6810013), array(0.68959309), array(0.69818317), array(0.70677118)]\n"
     ]
    }
   ],
   "source": [
    "import matplotlib.pyplot as plt\n",
    "\n",
    "r_eqs = np.linspace(1e-5, 1e-4, 100)\n",
    "numerical_solutions = [numerical_solultion(r_eq) for r_eq in r_eqs]\n",
    "analytic_solutions = [analytic_terminal_velocity(r_eq) for r_eq in r_eqs]\n",
    "\n",
    "plt.figure(figsize=(10, 6))\n",
    "plt.plot(r_eqs, numerical_solutions, label='Numerical Solution', color='blue')\n",
    "plt.plot(r_eqs, analytic_solutions, label='Analytic Solution', color='red', linestyle='--')\n",
    "plt.xlabel('Equatorial Radius (m)')\n",
    "plt.ylabel('Terminal Velocity (m/s)')\n",
    "plt.title('Terminal Velocity vs Equatorial Radius')\n",
    "plt.legend()\n",
    "plt.grid()\n",
    "plt.show()\n",
    "\n",
    "print(numerical_solutions)"
   ]
  },
  {
   "cell_type": "code",
   "execution_count": 33,
   "id": "ff5b6ecb",
   "metadata": {},
   "outputs": [
    {
     "data": {
      "image/png": "[encoded data removed]",
      "text/plain": [
       "<Figure size 720x432 with 1 Axes>"
      ]
     },
     "metadata": {
      "needs_background": "light"
     },
     "output_type": "display_data"
    }
   ],
   "source": [
    "experimental_r_eqs = np.concatenate((np.arange(0.01, 0.11, 0.01), np.arange(0.12, 0.6, 0.02))) * 1e-2\n",
    "experimental_solutions = np.array([0.27, 0.72, 1.17, 1.62, 2.06, 2.47, 2.87, 3.27, 3.67, 4.03,\n",
    "                                   4.64, 5.17, 5.65, 6.09, 6.49, 6.90, 7.27, 7.57, 7.82, 8.06,\n",
    "                                   8.26, 8.44, 8.60, 8.72, 8.83, 8.92, 8.98, 9.03, 9.07, 9.09,\n",
    "                                   9.12, 9.14, 9.16, 9.17])\n",
    "numerical_solultions = [numerical_solultion(r_eq) for r_eq in experimental_r_eqs]\n",
    "\n",
    "plt.figure(figsize=(10, 6))\n",
    "plt.plot(experimental_r_eqs, experimental_solutions, 'o', label='Experimental Data', color='green')\n",
    "plt.plot(experimental_r_eqs, numerical_solultions, label='Numerical Solution', color='blue')\n",
    "plt.xlabel('Equatorial Radius (m)')\n",
    "plt.ylabel('Terminal Velocity (m/s)')\n",
    "plt.title('Comparison of Numerical Solution with Experimental Data')\n",
    "plt.legend()\n",
    "plt.grid()\n",
    "plt.show()"
   ]
  }
 ],
 "metadata": {
  "kernelspec": {
   "display_name": "Python 3",
   "language": "python",
   "name": "python3"
  },
  "language_info": {
   "codemirror_mode": {
    "name": "ipython",
    "version": 3
   },
   "file_extension": ".py",
   "mimetype": "text/x-python",
   "name": "python",
   "nbconvert_exporter": "python",
   "pygments_lexer": "ipython3",
   "version": "3.10.12"
  }
 },
 "nbformat": 4,
 "nbformat_minor": 5
}
